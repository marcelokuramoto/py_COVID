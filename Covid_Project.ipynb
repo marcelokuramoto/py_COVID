{
 "cells": [
  {
   "cell_type": "markdown",
   "id": "b53d7f37",
   "metadata": {},
   "source": [
    "# COVID-19 Analysis with Python\n",
    "@author: Marcelo Kuramoto\n",
    "Last Updated: 20th October 2021\n",
    "\n",
    "Data-Source:https://www.kaggle.com/anjanatiha/corona-virus-time-series-dataset"
   ]
  },
  {
   "cell_type": "markdown",
   "id": "8c86420c",
   "metadata": {},
   "source": [
    "Importing the libraries"
   ]
  },
  {
   "cell_type": "code",
   "execution_count": 1,
   "id": "d6840ace",
   "metadata": {},
   "outputs": [],
   "source": [
    "import pandas as pd\n",
    "import numpy as np\n",
    "from datetime import datetime\n",
    "import plotly.express as px\n",
    "import plotly.graph_objects as go"
   ]
  },
  {
   "cell_type": "markdown",
   "id": "9fd58d23",
   "metadata": {},
   "source": [
    "Importing the CSVs"
   ]
  },
  {
   "cell_type": "code",
   "execution_count": null,
   "id": "c0747c18",
   "metadata": {},
   "outputs": [],
   "source": [
    "ur"
   ]
  }
 ],
 "metadata": {
  "kernelspec": {
   "display_name": "Python 3 (ipykernel)",
   "language": "python",
   "name": "python3"
  },
  "language_info": {
   "codemirror_mode": {
    "name": "ipython",
    "version": 3
   },
   "file_extension": ".py",
   "mimetype": "text/x-python",
   "name": "python",
   "nbconvert_exporter": "python",
   "pygments_lexer": "ipython3",
   "version": "3.8.11"
  }
 },
 "nbformat": 4,
 "nbformat_minor": 5
}
